{
 "cells": [
  {
   "cell_type": "markdown",
   "metadata": {},
   "source": [
    "# Process $name\n",
    "\n",
    "Jupyter Notebook to download and transform files to RDF.\n",
    "\n",
    "## Process and load concepts\n",
    "\n",
    "We use GitHub Actions workflow to run data processing workflows \n",
    "\n",
    "To run it use `act`: https://github.com/nektos/act\n",
    "\n",
    "\n",
    "## Load your model\n",
    "\n",
    "Load the model (ontology) used to describe your data in a specific graph in the triplestore\n"
   ]
  }
 ],
 "metadata": {
  "kernelspec": {
   "display_name": "Python 3",
   "language": "python",
   "name": "python3"
  },
  "language_info": {
   "codemirror_mode": {
    "name": "ipython",
    "version": 3
   },
   "file_extension": ".py",
   "mimetype": "text/x-python",
   "name": "python",
   "nbconvert_exporter": "python",
   "pygments_lexer": "ipython3",
   "version": "3.6.9-final"
  }
 },
 "nbformat": 4,
 "nbformat_minor": 4
}